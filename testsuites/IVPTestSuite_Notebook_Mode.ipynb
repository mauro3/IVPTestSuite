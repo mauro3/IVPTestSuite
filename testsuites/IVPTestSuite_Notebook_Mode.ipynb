{
 "cells": [
  {
   "cell_type": "code",
   "execution_count": null,
   "metadata": {
    "collapsed": true,
    "scrolled": true
   },
   "outputs": [],
   "source": [
    "workspace()"
   ]
  },
  {
   "cell_type": "markdown",
   "metadata": {},
   "source": [
    "# IVPTestSuite: Notebook Mode\n"
   ]
  },
  {
   "cell_type": "markdown",
   "metadata": {},
   "source": [
    "## (0) Prepare environment"
   ]
  },
  {
   "cell_type": "code",
   "execution_count": null,
   "metadata": {
    "collapsed": false,
    "scrolled": true
   },
   "outputs": [],
   "source": [
    "#if packages not yet install, i.e. run Pkg.add(\"IVPTestSuite\")\n",
    "Pkg.checkout(\"IVPTestSuite\",\"notebookmode\")"
   ]
  },
  {
   "cell_type": "code",
   "execution_count": null,
   "metadata": {
    "collapsed": false,
    "scrolled": true
   },
   "outputs": [],
   "source": [
    "#using Plotly"
   ]
  },
  {
   "cell_type": "markdown",
   "metadata": {},
   "source": [
    "## (1) Select ODE solvers\n",
    "Select which solvers to use. Options are:\n",
    "- ODE.jl solvers\n",
    "    - Stiff solvers\n",
    "        - `ODE.ode23` (Rosenbrock)\n",
    "    - Nonstiff solvers\n",
    "        - `ODE.ode113` (multistep, adaptive)\n",
    "        - `ODE.ode4ms` (multistep, fixed step)\n",
    "        - `ODE.ode78` (singlestep, adaptive)\n",
    "        - `ODE.ode45` (singlestep, adaptive)\n",
    "        - `ODE.ode23s` (Rosenbrock)\n",
    "- DASSL solvers\n",
    "- Sundial solvers"
   ]
  },
  {
   "cell_type": "code",
   "execution_count": null,
   "metadata": {
    "collapsed": false,
    "scrolled": true
   },
   "outputs": [],
   "source": [
    "testSolvers = [ODE.ode45,ODE.ode78, ODE.ode113]\n",
    "\n",
    "# ex: testSolvers = [ODE.ode45, ODE.4ms]"
   ]
  },
  {
   "cell_type": "markdown",
   "metadata": {},
   "source": [
    "## (2) Configure tolerance range for solvers"
   ]
  },
  {
   "cell_type": "code",
   "execution_count": null,
   "metadata": {
    "collapsed": false,
    "scrolled": true
   },
   "outputs": [],
   "source": [
    "# For fixed step solvers\n",
    "ntsteps = vcat(collect(10.^(1:5)), 500_000)"
   ]
  },
  {
   "cell_type": "code",
   "execution_count": null,
   "metadata": {
    "collapsed": false,
    "scrolled": true
   },
   "outputs": [],
   "source": [
    "# For adaptive solvers\n",
    "abstols = 10.0.^(-5:-1:-11)\n",
    "reltols = abstols"
   ]
  },
  {
   "cell_type": "markdown",
   "metadata": {},
   "source": [
    "## (3) Select test problems\n",
    "Select which test cases to use. Options are:\n",
    "- Stiff problems\n",
    "    - (:bruss1d)\n",
    "    - (:chemakzo)\n",
    "    - (:rober)\n",
    "    - (:hires)\n",
    "    - Van de Pol(:vdpol)\n",
    "- Nonstiff problems\n",
    "    - Pleidas (:plei)\n",
    "    - Threebody (:threebody)"
   ]
  },
  {
   "cell_type": "code",
   "execution_count": null,
   "metadata": {
    "collapsed": false,
    "scrolled": true
   },
   "outputs": [],
   "source": [
    "totest = IVPTestSuite.tc_all\n",
    "\n",
    "#ex_1: totest = IVPTestSuite.tc_all\n",
    "\n",
    "#ex_2: totest = similar(IVPTestSuite.tc_all)\n",
    "#      totest[:plei] = IVPTestSuite.tc_all[:plei]"
   ]
  },
  {
   "cell_type": "markdown",
   "metadata": {},
   "source": [
    "## (4) Accuracy, Runtime, and Memory Results\n",
    "\n",
    "An example output form for results of a given test case paired with a ODE solver is the following:\n",
    "\n",
    "`Running test case` __[test case used]__ `with solver` __[ODE solver used]__\n",
    "\n",
    "`Running test 1 of 3: sig. digits=` __[sig. digits of accurary]__ `, walltime=` __[runtime]__`, memory= `__[memory usage]__\n",
    "\n",
    "`Running test 2 of 3: sig. digits=` __[sig. digits of accurary]__ `, walltime=` __[runtime]__`, memory= `__[memory usage]__\n",
    "\n",
    "`Running test 3 of 3: sig. digits=` __[sig. digits of accurary]__ `, walltime=` __[runtime]__`, memory= `__[memory usage]__\n",
    "\n"
   ]
  },
  {
   "cell_type": "code",
   "execution_count": null,
   "metadata": {
    "collapsed": false,
    "scrolled": false
   },
   "outputs": [],
   "source": [
    "include(Pkg.dir()*\"//IVPTestSuite//testsuites//runsuites.jl\") #handle this better"
   ]
  },
  {
   "cell_type": "markdown",
   "metadata": {},
   "source": [
    "## (5) Plots"
   ]
  },
  {
   "cell_type": "code",
   "execution_count": null,
   "metadata": {
    "collapsed": false,
    "scrolled": false
   },
   "outputs": [],
   "source": [
    "PyPlot.svg(true)\n",
    "include(Pkg.dir()*\"//IVPTestSuite//testsuites//plot_suites.jl\") #handle this better"
   ]
  },
  {
   "cell_type": "markdown",
   "metadata": {},
   "source": [
    "## (6) Saving Results\n",
    "Quickest way to save these resuls is to export this notebook as a HTML or PDF."
   ]
  },
  {
   "cell_type": "code",
   "execution_count": null,
   "metadata": {
    "collapsed": true,
    "scrolled": false
   },
   "outputs": [],
   "source": []
  }
 ],
 "metadata": {
  "kernelspec": {
   "display_name": "Julia 0.4.5",
   "language": "julia",
   "name": "julia-0.4"
  },
  "language_info": {
   "file_extension": ".jl",
   "mimetype": "application/julia",
   "name": "julia",
   "version": "0.4.5"
  }
 },
 "nbformat": 4,
 "nbformat_minor": 0
}
