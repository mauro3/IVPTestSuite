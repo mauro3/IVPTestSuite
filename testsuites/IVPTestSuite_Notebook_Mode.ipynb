{
 "cells": [
  {
   "cell_type": "markdown",
   "metadata": {},
   "source": [
    "# IVPTestSuite: Notebook Mode\n"
   ]
  },
  {
   "cell_type": "markdown",
   "metadata": {},
   "source": [
    "## (0) Prepare environment"
   ]
  },
  {
   "cell_type": "code",
   "execution_count": null,
   "metadata": {
    "collapsed": false,
    "scrolled": true
   },
   "outputs": [
    {
     "name": "stderr",
     "output_type": "stream",
     "text": [
      "INFO: Precompiling module PyPlot...\n"
     ]
    }
   ],
   "source": [
    "#if packages not yet install, i.e. run Pkg.add(\"IVPTestSuite\")\n",
    "include(joinpath(Pkg.dir(),\"IVPTestSuite\\\\testsuites\\\\runsuites.jl\"))\n",
    "using Benchmarker"
   ]
  },
  {
   "cell_type": "code",
   "execution_count": null,
   "metadata": {
    "collapsed": false,
    "scrolled": true
   },
   "outputs": [],
   "source": [
    "#using Gadfly"
   ]
  },
  {
   "cell_type": "markdown",
   "metadata": {},
   "source": [
    "## (1) Select ODE solvers\n",
    "Select which solvers to use. Setting `solvers = allsolvers` will include all possible solvers. Options are:\n",
    "- ODE.jl solvers\n",
    "    - Stiff ODE Adaptive solvers\n",
    "        - `ODE.ode23` (Rosenbrock)\n",
    "    - Stiff ODE Fixed solvers\n",
    "        - `ODE.ode4s_kr` \n",
    "        - `ODE.ode4s_s` \n",
    "    - Nonstiff ODE Adaptive solvers\n",
    "        - `ODE.ode113` (multistep)\n",
    "        - `ODE.ode78`\n",
    "        - `ODE.ode45_fe`\n",
    "        - `ODE.ode45_fe`\n",
    "        - `ODE.ode23s` (Rosenbrock)\n",
    "    - Nonstiff ODE Fixed solvers\n",
    "        - `ODE.ode2_heun` \n",
    "        - `ODE.ode4ms` \n",
    "        - `ODE.ode1` \n",
    "        - `ODE.ode5ms`\n",
    "        - `ODE.ode4am`\n",
    "        - `ODE.ode4`\n",
    "- Sundial solvers\n",
    "    - Stiff ODE Adaptive solvers\n",
    "        - `Sundials.CVode` \n",
    "    - Stiff DAE Adaptive solvers\n",
    "        - Sundials.IDASolve \n",
    "- DASSL Stiff DAE Adaptive solvers\n",
    "    - DASSL.dasslSolve "
   ]
  },
  {
   "cell_type": "code",
   "execution_count": null,
   "metadata": {
    "collapsed": false,
    "scrolled": true
   },
   "outputs": [],
   "source": [
    "solvers = allsolvers\n",
    "\n",
    "# ex: testsolvers = [ODE.ode45, ODE.4ms]"
   ]
  },
  {
   "cell_type": "markdown",
   "metadata": {},
   "source": [
    "## (2) Configure tolerance range for solvers"
   ]
  },
  {
   "cell_type": "code",
   "execution_count": null,
   "metadata": {
    "collapsed": false,
    "scrolled": true
   },
   "outputs": [],
   "source": [
    "# For fixed step solvers\n",
    "ntsteps = vcat(collect(10.^(1:5)), 500_000)"
   ]
  },
  {
   "cell_type": "code",
   "execution_count": null,
   "metadata": {
    "collapsed": false,
    "scrolled": true
   },
   "outputs": [],
   "source": [
    "# For adaptive solvers\n",
    "abstol = 10.0.^(-5:-1:-11)\n",
   ]
  },
  {
   "cell_type": "markdown",
   "metadata": {},
   "source": [
    "## (3) Select test problems\n",
    "Select which test cases to use. Options are:\n",
    "- Stiff problems\n",
    "    - [Brusselator with 1D diffusion](https://en.wikipedia.org/wiki/Brusselator) (:bruss1d)\n",
    "    - [Chemical Akzo Nobel](https://archimede.dm.uniba.it/~testset/problems/chemakzo.php) (:chemakzo)\n",
    "    - [Rober](https://archimede.dm.uniba.it/~testset/problems/rober.php) (:rober)\n",
    "    - [HIRES](https://archimede.dm.uniba.it/~testset/problems/hires.php) (:hires)\n",
    "    - [Van de Pol](https://archimede.dm.uniba.it/~testset/problems/vdpol.php) (:vdpol)\n",
    "- Nonstiff problems\n",
    "    - [Pleidas](https://archimede.dm.uniba.it/~testset/problems/plei.php) (:plei)\n",
    "    - [Threebody](https://en.wikipedia.org/wiki/Three-body_problem) (:threebody)\n",
    "- OR `:all` which selects all of the above    "
   ]
  },
  {
   "cell_type": "code",
   "execution_count": null,
   "metadata": {
    "collapsed": false,
    "scrolled": true
   },
   "outputs": [],
   "source": [
    "cases = selectcases(:all)\n",
    "\n",
    "# You may also select a subsection of cases to test\n",
    "# ex: `cases = selectcases(:plei,:hires)"
   ]
  },
  {
   "cell_type": "markdown",
   "metadata": {},
   "source": [
    "## (4) Accuracy, Runtime, and Memory Results\n",
    "\n",
    "An example output form for results of a given test case paired with a ODE solver is the following:\n",
    "\n",
    "`Running test case` __[test case used]__ `with solver` __[ODE solver used]__\n",
    "\n",
    "`Running test 1 of 3: sig. digits=` __[sig. digits of accurary]__ `, walltime=` __[runtime]__`, memory= `__[memory usage]__\n",
    "\n",
    "`Running test 2 of 3: sig. digits=` __[sig. digits of accurary]__ `, walltime=` __[runtime]__`, memory= `__[memory usage]__\n",
    "\n",
    "`Running test 3 of 3: sig. digits=` __[sig. digits of accurary]__ `, walltime=` __[runtime]__`, memory= `__[memory usage]__\n",
    "\n"
   ]
  },
  {
   "cell_type": "code",
   "execution_count": null,
   "metadata": {
    "collapsed": false,
    "scrolled": false
   },
   "outputs": [],
   "source": [
    "runsuites(solvers,cases,abstol,ntsteps)"
   ]
  },
  {
   "cell_type": "markdown",
   "metadata": {},
   "source": [
    "## (5) Plots"
   ]
  },
  {
   "cell_type": "code",
   "execution_count": null,
   "metadata": {
    "collapsed": false,
    "scrolled": false
   },
   "outputs": [],
   "source": [
    "PyPlot.svg(true)\n",
    "plotsuites()"
   ]
  },
  {
   "cell_type": "markdown",
   "metadata": {},
   "source": [
    "## (6) Saving Results\n",
    "Quickest way to save these resuls is to export this notebook as a HTML or PDF."
   ]
  }
 ],
 "metadata": {
  "kernelspec": {
   "display_name": "Julia 0.4.6",
   "language": "julia",
   "name": "julia-0.4"
  },
  "language_info": {
   "file_extension": ".jl",
   "mimetype": "application/julia",
   "name": "julia",
   "version": "0.4.6"
  }
 },
 "nbformat": 4,
 "nbformat_minor": 0
}
